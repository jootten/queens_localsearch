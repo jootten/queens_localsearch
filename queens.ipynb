{
 "cells": [
  {
   "cell_type": "code",
   "execution_count": 9,
   "metadata": {},
   "outputs": [],
   "source": [
    "import numpy as np"
   ]
  },
  {
   "cell_type": "code",
   "execution_count": 10,
   "metadata": {},
   "outputs": [],
   "source": [
    "def initialize_board():\n",
    "    pos = np.random.randint(0,8,8)\n",
    "    board = np.zeros((8,8))\n",
    "    for i, p in enumerate(pos):\n",
    "        board[i, p] = 100\n",
    "    board = board.T\n",
    "    return board, pos"
   ]
  },
  {
   "cell_type": "code",
   "execution_count": 11,
   "metadata": {},
   "outputs": [],
   "source": [
    "def conflicts(h, px, py, ix, iy):\n",
    "    \n",
    "    if (px == py) and (ix != iy) and (((iy, py),(ix, px)) not in h):\n",
    "            h.append(((ix, px),(iy, py)))\n",
    "            \n",
    "    if ((px - py == ix - iy) or (px - py == abs(ix - iy))) and (ix != iy) and (((iy, py),(ix, px)) not in h):\n",
    "            h.append(((ix, px),(iy, py)))\n",
    "    return h"
   ]
  },
  {
   "cell_type": "code",
   "execution_count": 12,
   "metadata": {},
   "outputs": [],
   "source": [
    "def eval_attacks(pos):\n",
    "    h = []\n",
    "    for ix, px in enumerate(pos):\n",
    "        for  iy, py in enumerate(pos):\n",
    "            conflicts(h, px, py, ix, iy)\n",
    "    return h\n"
   ]
  },
  {
   "cell_type": "code",
   "execution_count": 13,
   "metadata": {},
   "outputs": [],
   "source": [
    "def eval_moves(board, pos, h):    \n",
    "    for ix in range(8):\n",
    "        hx = h.copy()\n",
    "        hx = [(x,y) for x, y in h if ((x != (ix, pos[ix])) and (y != (ix, pos[ix])))]\n",
    "        for px in range(8):\n",
    "            if board[px, ix] != 100:\n",
    "                # row\n",
    "                new_p = list(board[px]).count(100)\n",
    "                #diagonal\n",
    "                new_p += list(board.diagonal(offset=ix-px)).count(100)\n",
    "                board[px, ix] = list(np.flip(board, axis=0).diagonal(offset=-7+px+ix)).count(100) + len(hx) + new_p\n",
    "    return board"
   ]
  },
  {
   "cell_type": "code",
   "execution_count": 73,
   "metadata": {},
   "outputs": [],
   "source": [
    "def solve_queens():\n",
    "    c = 0\n",
    "    board, pos = initialize_board()\n",
    "    board_temp = board.copy()\n",
    "    while True: \n",
    "        \n",
    "        h = eval_attacks(pos)\n",
    "\n",
    "        board = eval_moves(board, pos, h)\n",
    "        \n",
    "        if board.min() == 0:\n",
    "            break\n",
    "\n",
    "        moves = np.argwhere(board == np.min(board))\n",
    "        move = moves[np.random.choice(moves.shape[0], replace=False), :]\n",
    "\n",
    "        wipe_x = pos[move[1]]\n",
    "\n",
    "        board[wipe_x, move[1]] = len(h)\n",
    "        board[move[0], move[1]] = 100\n",
    "\n",
    "        pos[move[1]] = move[0]\n",
    "\n",
    "        c += 1\n",
    "        \n",
    "        if c == 30:\n",
    "            board_temp = board.copy()\n",
    "            c = 0\n",
    "\n",
    "    return c, board"
   ]
  },
  {
   "cell_type": "code",
   "execution_count": 74,
   "metadata": {},
   "outputs": [
    {
     "data": {
      "text/plain": [
       "(12, array([[  3.,   1.,   4., 100.,   2.,   3.,   3.,   2.],\n",
       "        [  3.,   3.,   3.,   3.,   3.,   3., 100.,   2.],\n",
       "        [100.,   3.,   3.,   2.,   4.,   4.,   3.,   3.],\n",
       "        [  2.,   1.,   2.,   3.,   2.,   3.,   3.,   0.],\n",
       "        [  3.,   1.,   4.,   4., 100.,   3.,   3.,   3.],\n",
       "        [  4., 100.,   4.,   5.,   5.,   4.,   4., 100.],\n",
       "        [  3.,   3.,   4.,   3.,   3., 100.,   4.,   1.],\n",
       "        [  3.,   2., 100.,   3.,   3.,   4.,   3.,   2.]]))"
      ]
     },
     "execution_count": 74,
     "metadata": {},
     "output_type": "execute_result"
    }
   ],
   "source": [
    "solve_queens()"
   ]
  },
  {
   "cell_type": "code",
   "execution_count": 85,
   "metadata": {},
   "outputs": [
    {
     "data": {
      "text/plain": [
       "9.06"
      ]
     },
     "execution_count": 85,
     "metadata": {},
     "output_type": "execute_result"
    }
   ],
   "source": [
    "m = 0\n",
    "for i in range(50):\n",
    "    c, board = solve_queens()\n",
    "    m += c\n",
    "m/50"
   ]
  },
  {
   "cell_type": "code",
   "execution_count": 82,
   "metadata": {},
   "outputs": [
    {
     "data": {
      "text/plain": [
       "20"
      ]
     },
     "execution_count": 82,
     "metadata": {},
     "output_type": "execute_result"
    }
   ],
   "source": [
    "i"
   ]
  },
  {
   "cell_type": "code",
   "execution_count": 56,
   "metadata": {},
   "outputs": [
    {
     "data": {
      "text/plain": [
       "0"
      ]
     },
     "execution_count": 56,
     "metadata": {},
     "output_type": "execute_result"
    }
   ],
   "source": [
    "i"
   ]
  },
  {
   "cell_type": "code",
   "execution_count": 58,
   "metadata": {},
   "outputs": [
    {
     "data": {
      "text/plain": [
       "0"
      ]
     },
     "execution_count": 58,
     "metadata": {},
     "output_type": "execute_result"
    }
   ],
   "source": [
    "m"
   ]
  },
  {
   "cell_type": "code",
   "execution_count": null,
   "metadata": {},
   "outputs": [],
   "source": []
  }
 ],
 "metadata": {
  "kernelspec": {
   "display_name": "Python 3",
   "language": "python",
   "name": "python3"
  },
  "language_info": {
   "codemirror_mode": {
    "name": "ipython",
    "version": 3
   },
   "file_extension": ".py",
   "mimetype": "text/x-python",
   "name": "python",
   "nbconvert_exporter": "python",
   "pygments_lexer": "ipython3",
   "version": "3.7.4"
  }
 },
 "nbformat": 4,
 "nbformat_minor": 4
}
